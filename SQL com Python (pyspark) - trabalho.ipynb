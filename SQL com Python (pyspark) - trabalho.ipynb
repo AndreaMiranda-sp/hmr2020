{
 "cells": [
  {
   "cell_type": "code",
   "execution_count": 28,
   "metadata": {},
   "outputs": [],
   "source": [
    "from pyspark.sql import SparkSession"
   ]
  },
  {
   "cell_type": "code",
   "execution_count": 29,
   "metadata": {},
   "outputs": [],
   "source": [
    "from pyspark.sql import Row"
   ]
  },
  {
   "cell_type": "code",
   "execution_count": 30,
   "metadata": {},
   "outputs": [],
   "source": [
    "spark = SparkSession \\\n",
    "    .builder \\\n",
    "    .appName(\"Trabalho\") \\\n",
    "    .config(\"spark.some.config.option\", \"some-value\") \\\n",
    "    .getOrCreate()"
   ]
  },
  {
   "cell_type": "code",
   "execution_count": 31,
   "metadata": {},
   "outputs": [
    {
     "name": "stdout",
     "output_type": "stream",
     "text": [
      "+--------+-------+--------------------+--------------------+--------------------+--------------------+-----------------+------------+--------+--------+--------------------+--------------------+\n",
      "| show_id|   type|               title|            director|                cast|             country|       date_added|release_year|  rating|duration|           listed_in|         description|\n",
      "+--------+-------+--------------------+--------------------+--------------------+--------------------+-----------------+------------+--------+--------+--------------------+--------------------+\n",
      "|81145628|  Movie|Norm of the North...|Richard Finn, Tim...|Alan Marriott, An...|United States, In...|September 9, 2019|        2019|   TV-PG|  90 min|Children & Family...|Before planning a...|\n",
      "|80117401|  Movie|Jandino: Whatever...|                null|    Jandino Asporaat|      United Kingdom|September 9, 2016|        2016|   TV-MA|  94 min|     Stand-Up Comedy|\"Jandino Asporaat...|\n",
      "|70234439|TV Show|  Transformers Prime|                null|Peter Cullen, Sum...|       United States|September 8, 2018|        2013|TV-Y7-FV|1 Season|            Kids' TV|With the help of ...|\n",
      "|80058654|TV Show|Transformers: Rob...|                null|Will Friedle, Dar...|       United States|September 8, 2018|        2016|   TV-Y7|1 Season|            Kids' TV|When a prison shi...|\n",
      "|80125979|  Movie|        #realityhigh|    Fernando Lebrija|Nesta Cooper, Kat...|       United States|September 8, 2017|        2017|   TV-14|  99 min|            Comedies|When nerdy high s...|\n",
      "|80163890|TV Show|             Apaches|                null|Alberto Ammann, E...|               Spain|September 8, 2017|        2016|   TV-MA|1 Season|Crime TV Shows, I...|A young journalis...|\n",
      "|70304989|  Movie|            Automata|         Gabe Ibáñez|Antonio Banderas,...|Bulgaria, United ...|September 8, 2017|        2014|       R| 110 min|International Mov...|In a dystopian fu...|\n",
      "|80164077|  Movie|Fabrizio Copano: ...|Rodrigo Toro, Fra...|     Fabrizio Copano|               Chile|September 8, 2017|        2017|   TV-MA|  60 min|     Stand-Up Comedy|Fabrizio Copano t...|\n",
      "|80117902|TV Show|        Fire Chasers|                null|                null|       United States|September 8, 2017|        2017|   TV-MA|1 Season|Docuseries, Scien...|As California's 2...|\n",
      "|70304990|  Movie|         Good People|   Henrik Ruben Genz|James Franco, Kat...|United States, Un...|September 8, 2017|        2014|       R|  90 min|Action & Adventur...|A struggling coup...|\n",
      "|80169755|  Movie|Joaquín Reyes: Un...|José Miguel Contr...|       Joaquín Reyes|                null|September 8, 2017|        2017|   TV-MA|  78 min|     Stand-Up Comedy|Comedian and cele...|\n",
      "|70299204|  Movie|Kidnapping Mr. He...|    Daniel Alfredson|Jim Sturgess, Sam...|Netherlands, Belg...|September 8, 2017|        2015|       R|  95 min|Action & Adventur...|\"When beer magnat...|\n",
      "|80182480|  Movie|Krish Trish and B...|                null|Damandeep Singh B...|                null|September 8, 2017|        2009|   TV-Y7|  58 min|Children & Family...|A team of minstre...|\n",
      "|80182483|  Movie|Krish Trish and B...|Munjal Shroff, Ti...|Damandeep Singh B...|                null|September 8, 2017|        2013|   TV-Y7|  62 min|Children & Family...|An artisan is che...|\n",
      "|80182596|  Movie|Krish Trish and B...|Munjal Shroff, Ti...|Damandeep Singh B...|                null|September 8, 2017|        2016|    TV-Y|  65 min|Children & Family...|A cat, monkey and...|\n",
      "|80182482|  Movie|Krish Trish and B...|        Tilak Shetty|Damandeep Singh B...|                null|September 8, 2017|        2012|   TV-Y7|  61 min|Children & Family...|In three comic-st...|\n",
      "|80182597|  Movie|Krish Trish and B...|        Tilak Shetty|Rishi Gambhir, Sm...|                null|September 8, 2017|        2017|   TV-Y7|  65 min|Children & Family...|A cat, monkey and...|\n",
      "|80182481|  Movie|Krish Trish and B...|                null|Damandeep Singh B...|                null|September 8, 2017|        2010|   TV-Y7|  58 min|Children & Family...|Animal minstrels ...|\n",
      "|80182621|  Movie|Krish Trish and B...|Munjal Shroff, Ti...|Damandeep Singh B...|                null|September 8, 2017|        2013|   TV-Y7|  60 min|Children & Family...|The consequences ...|\n",
      "|80057969|  Movie|                Love|          Gaspar Noé|Karl Glusman, Kla...|     France, Belgium|September 8, 2017|        2015|      NR| 135 min|Cult Movies, Dram...|A man in an unsat...|\n",
      "+--------+-------+--------------------+--------------------+--------------------+--------------------+-----------------+------------+--------+--------+--------------------+--------------------+\n",
      "only showing top 20 rows\n",
      "\n"
     ]
    }
   ],
   "source": [
    "df = spark.read.option(\"header\",\"true\").csv(\"/home/jgabrielmeurer1/Desktop/mba/Trabalho/archive/netflix_titles.csv\")\n",
    "df.show()"
   ]
  },
  {
   "cell_type": "code",
   "execution_count": 32,
   "metadata": {},
   "outputs": [],
   "source": [
    "df.createOrReplaceTempView(\"netflix\")"
   ]
  },
  {
   "cell_type": "code",
   "execution_count": 33,
   "metadata": {
    "scrolled": true
   },
   "outputs": [
    {
     "name": "stdout",
     "output_type": "stream",
     "text": [
      "+--------------+--------------------+\n",
      "|count(show_id)|             Country|\n",
      "+--------------+--------------------+\n",
      "|             1|Peru, United Stat...|\n",
      "|             2|      India, Germany|\n",
      "|             1|South Africa, Uni...|\n",
      "|            13|              Russia|\n",
      "|             1|Chile, United Sta...|\n",
      "|             1|Denmark, France, ...|\n",
      "|             1|  Philippines, Qatar|\n",
      "|             1|  Germany, Sri Lanka|\n",
      "|             1|Hong Kong, China,...|\n",
      "|             1|United States, Fr...|\n",
      "|             3|Australia, United...|\n",
      "|             2|United States, Ir...|\n",
      "|             1|Brazil, France, G...|\n",
      "|             2| India, Soviet Union|\n",
      "|             1|France, Iran, Uni...|\n",
      "|             1|United States, Fr...|\n",
      "|             1|United States, Ge...|\n",
      "|             1|Brazil, United St...|\n",
      "|             2|United Kingdom, I...|\n",
      "|             1|Turkey, United St...|\n",
      "+--------------+--------------------+\n",
      "only showing top 20 rows\n",
      "\n"
     ]
    }
   ],
   "source": [
    "sqlDF = spark.sql(\"SELECT COUNT (show_id), Country FROM netflix GROUP BY country\")\n",
    "sqlDF.show()"
   ]
  },
  {
   "cell_type": "code",
   "execution_count": 34,
   "metadata": {},
   "outputs": [
    {
     "data": {
      "text/plain": [
       "563"
      ]
     },
     "execution_count": 34,
     "metadata": {},
     "output_type": "execute_result"
    }
   ],
   "source": [
    "sqlDF = spark.sql(\"SELECT COUNT (show_id), Country FROM netflix GROUP BY country\")\n",
    "sqlDF.count()"
   ]
  },
  {
   "cell_type": "code",
   "execution_count": 35,
   "metadata": {},
   "outputs": [],
   "source": [
    "sqlDF = spark.sql(\"SELECT * FROM netflix WHERE country LIKE 'Bra%'\")"
   ]
  },
  {
   "cell_type": "code",
   "execution_count": 36,
   "metadata": {},
   "outputs": [
    {
     "data": {
      "text/plain": [
       "57"
      ]
     },
     "execution_count": 36,
     "metadata": {},
     "output_type": "execute_result"
    }
   ],
   "source": [
    "#contar filmes brasileiros na Netflix\n",
    "sqlDFBr = spark.sql(\"SELECT * FROM netflix WHERE country LIKE 'Bra%'\")\n",
    "sqlDFBr.count()\n"
   ]
  },
  {
   "cell_type": "code",
   "execution_count": 37,
   "metadata": {},
   "outputs": [
    {
     "name": "stdout",
     "output_type": "stream",
     "text": [
      "+--------+-------+--------------------+--------------------+--------------------+--------------------+------------------+------------+------+--------+--------------------+--------------------+\n",
      "| show_id|   type|               title|            director|                cast|             country|        date_added|release_year|rating|duration|           listed_in|         description|\n",
      "+--------+-------+--------------------+--------------------+--------------------+--------------------+------------------+------------+------+--------+--------------------+--------------------+\n",
      "|81011955|  Movie|       Paradise Lost|  Monique Gardenberg|Júlio Andrade, Le...|              Brazil|September 29, 2018|        2018| TV-MA| 111 min|Dramas, Independe...|A cop moonlights ...|\n",
      "|80214464|  Movie|Rafinha Bastos: U...|                null|      Rafinha Bastos|              Brazil|September 21, 2018|        2018| TV-MA|  63 min|     Stand-Up Comedy|An off-color joke...|\n",
      "|81137484|  Movie|               Elena|         Petra Costa|                null|Brazil, United St...| September 1, 2019|        2012| TV-14|  81 min|Documentaries, In...|In this documenta...|\n",
      "|80221210|TV Show|         Brotherhood|                null|Naruna Costa, Seu...|              Brazil|  October 25, 2019|        2019| TV-MA|1 Season|Crime TV Shows, I...|An honest lawyer ...|\n",
      "|81003880|TV Show|          Blood Pact|                null|Guilherme Fontes,...|              Brazil|  October 10, 2018|        2018| TV-MA|1 Season|Crime TV Shows, I...|An ambitious TV r...|\n",
      "|80063617|  Movie|   Boy and the World|           Alê Abreu|Vinícius Garcia, ...|              Brazil|   October 1, 2017|        2013|    PG|  80 min|Children & Family...|Young Cuca leaves...|\n",
      "|80094453|  Movie|Chatô: The King o...|    Guilherme Fontes|Marco Ricca, Andr...|              Brazil|   October 1, 2016|        2015|    NR| 105 min|Dramas, Internati...|The romanticized ...|\n",
      "|80194289|  Movie|Gabriel and the M...|     Fellipe Barbosa|João Pedro Zappa,...|      Brazil, France|  November 9, 2018|        2017| TV-MA| 132 min|Dramas, Independe...|In a drama based ...|\n",
      "|80218634|TV Show|         Super Drags|                null|Fernando Mendonça...|              Brazil|  November 9, 2018|        2018| TV-MA|1 Season|International TV ...|In this adult ani...|\n",
      "|81161538|TV Show|     Lugar de Mulher|                null|                null|              Brazil| November 28, 2019|        2019| TV-MA|1 Season|International TV ...|Four comedians fr...|\n",
      "|80244700|TV Show|    Nobody's Looking|                null|Victor Lamoglia, ...|              Brazil| November 22, 2019|        2019| TV-MA|1 Season|International TV ...|\"A new guardian \"...|\n",
      "|81020531|  Movie|       Ana e Vitória|       Matheus Souza|Ana Caetano, Vitó...|              Brazil|  November 2, 2018|        2018| TV-14| 116 min|Comedies, Interna...|After meeting by ...|\n",
      "|80216621|TV Show|          Vai Anitta|                null|              Anitta|              Brazil| November 16, 2018|        2018| TV-MA|1 Season|Docuseries, Inter...|Go behind the sce...|\n",
      "|80107990|TV Show|The Beginning of ...|       Estela Renner|                null|              Brazil| November 11, 2016|        2016| TV-PG|1 Season|Docuseries, Inter...|Using breakthroug...|\n",
      "|80127990|  Movie|          The Killer|      Marcelo Galvão|Diogo Morgado, Et...|              Brazil| November 10, 2017|        2017| TV-MA| 100 min|Action & Adventur...|In lawless badlan...|\n",
      "|80210147|  Movie|Edmilson Filho: N...|        Halder Gomes|      Edmilson Filho|              Brazil|  November 1, 2018|        2017| TV-MA|  80 min|     Stand-Up Comedy|Brazilian comedia...|\n",
      "|80116761|  Movie|City of God: 10 Y...|Cavi Borges, Luci...|                null|              Brazil|       May 7, 2018|        2013| TV-MA|  69 min|Documentaries, In...|\"A decade after t...|\n",
      "|80142223|  Movie|           Laerte-se|Lygia Barbosa da ...|     Laerte Coutinho|              Brazil|      May 19, 2017|        2017| TV-MA| 101 min|Documentaries, In...|After living as a...|\n",
      "|80162210|  Movie|Felipe Neto: My L...|     Diego Pignataro|         Felipe Neto|              Brazil|    March 24, 2017|        2017| TV-MA|  91 min|     Stand-Up Comedy|\"YouTube sensatio...|\n",
      "|80208298|TV Show|Most Beautiful Thing|                null|Maria Casadevall,...|              Brazil|    March 22, 2019|        2019| TV-MA|1 Season|International TV ...|A 1950s housewife...|\n",
      "+--------+-------+--------------------+--------------------+--------------------+--------------------+------------------+------------+------+--------+--------------------+--------------------+\n",
      "only showing top 20 rows\n",
      "\n"
     ]
    }
   ],
   "source": [
    "sqlDFBr.show()"
   ]
  },
  {
   "cell_type": "code",
   "execution_count": 38,
   "metadata": {},
   "outputs": [
    {
     "data": {
      "text/plain": [
       "57"
      ]
     },
     "execution_count": 38,
     "metadata": {},
     "output_type": "execute_result"
    }
   ],
   "source": []
  }
 ],
 "metadata": {
  "kernelspec": {
   "display_name": "Python 3",
   "language": "python",
   "name": "python3"
  },
  "language_info": {
   "codemirror_mode": {
    "name": "ipython",
    "version": 3
   },
   "file_extension": ".py",
   "mimetype": "text/x-python",
   "name": "python",
   "nbconvert_exporter": "python",
   "pygments_lexer": "ipython3",
   "version": "3.5.3"
  }
 },
 "nbformat": 4,
 "nbformat_minor": 4
}
